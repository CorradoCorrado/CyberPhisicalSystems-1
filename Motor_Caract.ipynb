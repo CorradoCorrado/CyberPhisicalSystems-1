{
  "nbformat": 4,
  "nbformat_minor": 0,
  "metadata": {
    "colab": {
      "provenance": [],
      "include_colab_link": true
    },
    "kernelspec": {
      "name": "python3",
      "display_name": "Python 3"
    },
    "language_info": {
      "name": "python"
    }
  },
  "cells": [
    {
      "cell_type": "markdown",
      "metadata": {
        "id": "view-in-github",
        "colab_type": "text"
      },
      "source": [
        "<a href=\"https://colab.research.google.com/github/CorradoCorrado/CyberPhysicalSystems/blob/main/Motor_Caract.ipynb\" target=\"_parent\"><img src=\"https://colab.research.google.com/assets/colab-badge.svg\" alt=\"Open In Colab\"/></a>"
      ]
    },
    {
      "cell_type": "markdown",
      "source": [
        "## Caracterización de Motores \n",
        "Esta es la caracterización de los motores del reto. \n",
        "\n",
        "---\n",
        "\n",
        "Estos son valores de entrada\n",
        "```\n",
        "Xdata    # Duty Cycle del PWM \n",
        "ydata    # Frecuencia del sensor hall\n",
        "```\n",
        "Modifica estos valores según \n",
        "```\n",
        "polyv      # Valor del polinomio\n",
        "sta_value  # Valor Inicio para ajuste\n",
        "sto_value  # Valor Final para ajuste \n",
        "stp_value  # Valor del paso \n",
        "```\n",
        "Valores Internos (no modificar)\n",
        "```\n",
        "fitraw   # Valor polinomio \n",
        "fitdata  # Valores ajustados \n",
        "```\n",
        "\n",
        "---"
      ],
      "metadata": {
        "id": "hRKZ4Fapb8jq"
      }
    },
    {
      "cell_type": "code",
      "execution_count": null,
      "metadata": {
        "id": "VtZU11OrT0Ca"
      },
      "outputs": [],
      "source": [
        "\n",
        "import numpy as np \n",
        "import warnings\n",
        "from matplotlib import pyplot as plt"
      ]
    },
    {
      "cell_type": "markdown",
      "source": [
        "# Valores de Entrada"
      ],
      "metadata": {
        "id": "jxZcSiMGele2"
      }
    },
    {
      "cell_type": "code",
      "source": [
        "# ~~~ Initial Data ~~~\n",
        "#     ESTOS DATOS SON DE PRUEBA \n",
        "xdata = np.array([0, 10, 20, 30, 40, 50, 60, 70, 80, 90, 100])\n",
        "ydata = np.array([0, 23, 34, 34, 42, 59, 69, 76, 84, 93, 120])\n",
        "\n",
        "# ~~~ Polynomial Fit ~~~\n",
        "polyv = 3\n",
        "\n",
        "# ~~~ Polynomial Fit Plot ~~~ \n",
        "sta_value = 0\n",
        "sto_value = 100\n",
        "stp_value = 100\n",
        "\n",
        "# ~~~ Data Sanity Check ~~~ \n",
        "assert (len(xdata) == len(ydata)) "
      ],
      "metadata": {
        "id": "XSzpTonPUKcd"
      },
      "execution_count": null,
      "outputs": []
    },
    {
      "cell_type": "code",
      "source": [
        "plt.scatter(xdata,ydata)\n",
        "plt.title(\"Motor Data\")\n",
        "plt.xlabel(\"PWM Duty Cycle\")\n",
        "plt.ylabel(\"Hall Effect Freq\")\n",
        "plt.grid(True)\n",
        "plt.show()"
      ],
      "metadata": {
        "colab": {
          "base_uri": "https://localhost:8080/",
          "height": 295
        },
        "id": "IGozXbloX5m_",
        "outputId": "42bdcb6f-3667-40e0-a119-deb21c6eeb41"
      },
      "execution_count": null,
      "outputs": [
        {
          "output_type": "display_data",
          "data": {
            "text/plain": [
              "<Figure size 432x288 with 1 Axes>"
            ],
            "image/png": "[encoded data removed]"
          },
          "metadata": {
            "needs_background": "light"
          }
        }
      ]
    },
    {
      "cell_type": "code",
      "source": [
        "fitraw = np.poly1d(np.polyfit(xdata,ydata,polyv))\n",
        "xp = np.linspace(sta_value,sto_value,stp_value)\n",
        "_ = plt.plot(xdata,ydata,'.',fitraw(xp),'--')\n",
        "plt.show()\n",
        "fitraw"
      ],
      "metadata": {
        "colab": {
          "base_uri": "https://localhost:8080/",
          "height": 282
        },
        "id": "PpmZbn2aWf_Q",
        "outputId": "a9660c10-72b4-4e60-e7a5-c53cf00ed34e"
      },
      "execution_count": null,
      "outputs": [
        {
          "output_type": "display_data",
          "data": {
            "text/plain": [
              "<Figure size 432x288 with 1 Axes>"
            ],
            "image/png": "[encoded data removed]"
          },
          "metadata": {
            "needs_background": "light"
          }
        },
        {
          "output_type": "execute_result",
          "data": {
            "text/plain": [
              "poly1d([ 1.42968143e-04, -1.99417249e-02,  1.70470085e+00,  2.88111888e+00])"
            ]
          },
          "metadata": {},
          "execution_count": 74
        }
      ]
    }
  ]
}